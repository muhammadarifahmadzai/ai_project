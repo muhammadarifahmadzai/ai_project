{
 "cells": [
  {
   "cell_type": "code",
   "execution_count": null,
   "id": "cd348558",
   "metadata": {
    "scrolled": true
   },
   "outputs": [
    {
     "name": "stdout",
     "output_type": "stream",
     "text": [
      "Epoch 1/10\n",
      "1250/1250 [==============================] - 34s 25ms/step - loss: 1.8210 - accuracy: 0.3302 - val_loss: 1.5659 - val_accuracy: 0.4387\n",
      "Epoch 2/10\n",
      "1250/1250 [==============================] - 31s 25ms/step - loss: 1.5831 - accuracy: 0.4259 - val_loss: 1.4462 - val_accuracy: 0.4855\n",
      "Epoch 3/10\n",
      "1250/1250 [==============================] - 32s 26ms/step - loss: 1.4737 - accuracy: 0.4696 - val_loss: 1.3872 - val_accuracy: 0.5056\n",
      "Epoch 4/10\n",
      "1250/1250 [==============================] - 32s 25ms/step - loss: 1.3965 - accuracy: 0.5005 - val_loss: 1.3323 - val_accuracy: 0.5408\n",
      "Epoch 5/10\n",
      "1250/1250 [==============================] - 32s 25ms/step - loss: 1.3252 - accuracy: 0.5279 - val_loss: 1.2782 - val_accuracy: 0.5454\n",
      "Epoch 6/10\n",
      "1250/1250 [==============================] - 32s 26ms/step - loss: 1.2723 - accuracy: 0.5469 - val_loss: 1.2540 - val_accuracy: 0.5664\n",
      "Epoch 7/10\n",
      "1250/1250 [==============================] - 32s 26ms/step - loss: 1.2440 - accuracy: 0.5572 - val_loss: 1.1682 - val_accuracy: 0.5859\n",
      "Epoch 8/10\n",
      "1250/1250 [==============================] - 33s 26ms/step - loss: 1.2135 - accuracy: 0.5687 - val_loss: 1.1645 - val_accuracy: 0.5926\n",
      "Epoch 9/10\n",
      "1250/1250 [==============================] - 33s 26ms/step - loss: 1.1984 - accuracy: 0.5776 - val_loss: 1.1528 - val_accuracy: 0.5950\n",
      "Epoch 10/10\n",
      " 528/1250 [===========>..................] - ETA: 18s - loss: 1.1735 - accuracy: 0.5833"
     ]
    }
   ],
   "source": [
    "\n",
    "import tensorflow as tf\n",
    "from tensorflow.keras import layers, models\n",
    "from tensorflow.keras.datasets import cifar10\n",
    "from tensorflow.keras.utils import to_categorical\n",
    "from sklearn.model_selection import train_test_split\n",
    "\n",
    "# Load the CIFAR-10 dataset\n",
    "(x_train, y_train), (x_test, y_test) = cifar10.load_data()\n",
    "\n",
    "# Split the training data into training and validation sets\n",
    "x_train, x_val, y_train, y_val = train_test_split(x_train, y_train, test_size=0.2, random_state=42)\n",
    "\n",
    "# Preprocess the data\n",
    "x_train = x_train.astype('float32') / 255.0\n",
    "x_val = x_val.astype('float32') / 255.0\n",
    "x_test = x_test.astype('float32') / 255.0\n",
    "\n",
    "# Convert the labels to one-hot vectors\n",
    "y_train = to_categorical(y_train, 10)\n",
    "y_val = to_categorical(y_val, 10)\n",
    "y_test = to_categorical(y_test, 10)\n",
    "\n",
    "# Define the data augmentation pipeline\n",
    "data_augmentation = tf.keras.Sequential([\n",
    "  layers.RandomFlip('horizontal'),\n",
    "  layers.RandomRotation(0.2),\n",
    "])\n",
    "\n",
    "# Create the model\n",
    "model = models.Sequential([\n",
    "  data_augmentation,\n",
    "  layers.Conv2D(32, (3, 3), activation='relu', input_shape=(32, 32, 3)),\n",
    "  layers.MaxPooling2D((2, 2)),\n",
    "  layers.Conv2D(64, (3, 3), activation='relu'),\n",
    "  layers.MaxPooling2D((2, 2)),\n",
    "  layers.Conv2D(64, (3, 3), activation='relu'),\n",
    "  layers.Flatten(),\n",
    "  layers.Dense(64, activation='relu'),\n",
    "  layers.Dense(10, activation='softmax')\n",
    "])\n",
    "\n",
    "# Compile the model\n",
    "model.compile(optimizer='adam', loss='categorical_crossentropy', metrics=['accuracy'])\n",
    "\n",
    "# Train the model\n",
    "model.fit(x_train, y_train, epochs=10, validation_data=(x_val, y_val))\n",
    "\n",
    "# Evaluate the model on the test set\n",
    "test_loss, test_acc = model.evaluate(x_test, y_test)\n",
    "print(f'Test Accuracy: {test_acc}')\n",
    "\n",
    "# Save the model\n",
    "model.save('model/my_model.h5')"
   ]
  },
  {
   "cell_type": "code",
   "execution_count": null,
   "id": "2ce2ecff",
   "metadata": {},
   "outputs": [],
   "source": []
  }
 ],
 "metadata": {
  "kernelspec": {
   "display_name": "ML-KERNEL",
   "language": "python",
   "name": "ml-kernel"
  },
  "language_info": {
   "codemirror_mode": {
    "name": "ipython",
    "version": 3
   },
   "file_extension": ".py",
   "mimetype": "text/x-python",
   "name": "python",
   "nbconvert_exporter": "python",
   "pygments_lexer": "ipython3",
   "version": "3.11.4"
  }
 },
 "nbformat": 4,
 "nbformat_minor": 5
}
